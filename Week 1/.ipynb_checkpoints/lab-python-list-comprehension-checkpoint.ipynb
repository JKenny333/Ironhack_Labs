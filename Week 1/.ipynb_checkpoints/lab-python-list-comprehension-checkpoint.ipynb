{
 "cells": [
  {
   "cell_type": "markdown",
   "id": "25d7736c-ba17-4aff-b6bb-66eba20fbf4e",
   "metadata": {},
   "source": [
    "# Lab | List, Dict and Set Comprehension"
   ]
  },
  {
   "cell_type": "markdown",
   "id": "7dd3cbde-675a-4b81-92c3-f728846dbe06",
   "metadata": {},
   "source": [
    "## Exercise: Managing Customer Orders Optimized with Comprehension"
   ]
  },
  {
   "cell_type": "markdown",
   "id": "5d500160-2fb7-4777-b5e4-09d45ebaf328",
   "metadata": {},
   "source": [
    "In the previous exercise, you developed a program to manage customer orders and inventory. Now, let's take it a step further and incorporate comprehension into your code.\n",
    "\n",
    "Follow the steps below to complete the exercise:\n",
    "\n",
    "1. Review your code from the previous exercise and identify areas where you can apply comprehension to simplify and streamline your code. \n",
    "\n",
    "    - *Hint: Apply it to initialize inventory, updating the inventory and printing the updated inventory.*\n",
    "    \n",
    "    - For example, in initializing the inventory, we could have:\n",
    "    \n",
    "        ```python\n",
    "        def initialize_inventory(products):\n",
    "            inventory = {product: int(input(f\"Enter the quantity of {product}s available: \")) for product in products}\n",
    "            return inventory\n",
    "\n",
    "        ```\n",
    "<br>\n",
    "    \n",
    "    \n",
    "2. Modify the function get_customer_orders so it prompts the user to enter the number of customer orders and gathers the product names using a loop and user input. Use comprehension.\n",
    "\n",
    "3. Add a new function to calculate the total price of the customer order. For each product in customer_orders, prompt the user to enter the price of that product. Use comprehension to calculate the total price. Note: assume that the user can only have 1 unit of each product.\n",
    "\n",
    "4. Modify the update_inventory function to remove the product from the inventory if its quantity becomes zero after fulfilling the customer orders. Use comprehension to filter out the products with a quantity of zero from the inventory.\n",
    "\n",
    "5. Print the total price of the customer order.\n",
    "\n",
    "Your code should produce output similar to the following:\n",
    "\n",
    "```python\n",
    "Enter the quantity of t-shirts available:  5\n",
    "Enter the quantity of mugs available:  4\n",
    "Enter the quantity of hats available:  3\n",
    "Enter the quantity of books available:  2\n",
    "Enter the quantity of keychains available:  1\n",
    "Enter the number of customer orders:  2\n",
    "Enter the name of a product that a customer wants to order:  hat\n",
    "Enter the name of a product that a customer wants to order:  keychain\n",
    "\n",
    "Order Statistics:\n",
    "Total Products Ordered: 2\n",
    "Percentage of Unique Products Ordered: 40.0\n",
    "\n",
    "Updated Inventory:\n",
    "t-shirt: 5\n",
    "mug: 4\n",
    "hat: 2\n",
    "book: 2\n",
    "Enter the price of keychain:  5\n",
    "Enter the price of hat:  10\n",
    "Total Price: 15.0\n",
    "\n",
    "```\n"
   ]
  },
  {
   "cell_type": "code",
   "execution_count": 23,
   "id": "5a170dcd",
   "metadata": {},
   "outputs": [],
   "source": [
    "def initialize_inventory(products):\n",
    "    inventory = {}\n",
    "    inventory = {product: int(input(f\"Enter the quantity of {product}s available: \")) for product in products}\n",
    "    return inventory\n",
    "\n",
    "#2\n",
    "def get_customer_orders():\n",
    "    num_orders = int(input(\"Enter the number of customer orders: \"))\n",
    "    return {input(f\"Please enter product {i+1} you would like to order: \") for i in range(num_orders)}\n",
    "#3\n",
    "def calculate_order_price(customer_orders):\n",
    "    prices = {int(input(f\"Please enter the price of {order} : \")) for order in customer_orders}\n",
    "    return sum(prices)\n",
    "#4\n",
    "def update_inventory(customer_orders, inventory):\n",
    "    for product in customer_orders:\n",
    "        if product in inventory:\n",
    "            if inventory[product] > 0:\n",
    "                inventory[product] -= 1\n",
    "    \n",
    "    inventory = {product: quantity for product, quantity in inventory.items() if quantity > 0} \n",
    "\n",
    "    return inventory\n",
    "\n",
    "def calculate_order_statistics(customer_orders, products):\n",
    "    order_statistics = (int(len(customer_orders)), int(len(customer_orders)/len(products)*100))\n",
    "    return order_statistics\n",
    "\n",
    "def print_order_statistics(order_statistics):\n",
    "    print(f\"Order Statistics:\\nTotal Products Ordered:{order_statistics[0]}\\nPercentage of Products Ordered:{order_statistics[1]}%\")\n",
    "    \n",
    "def print_updated_inventory(inventory):\n",
    "    for product,quantity in inventory.items():\n",
    "        print(f\"{product}:{quantity}\")"
   ]
  },
  {
   "cell_type": "code",
   "execution_count": 24,
   "id": "370cbab9",
   "metadata": {},
   "outputs": [
    {
     "name": "stdout",
     "output_type": "stream",
     "text": [
      "Enter the quantity of t-shirts available: 5\n",
      "Enter the quantity of mugs available: 4\n",
      "Enter the quantity of hats available: 3\n",
      "Enter the quantity of books available: 2\n",
      "Enter the quantity of keychains available: 1\n",
      "Enter the number of customer orders: 2\n",
      "Please enter product 1 you would like to order: hat\n",
      "Please enter product 2 you would like to order: keychain\n",
      "Please enter the price of hat : 10\n",
      "Please enter the price of keychain : 5\n",
      "Order Statistics:\n",
      "Total Products Ordered:2\n",
      "Percentage of Products Ordered:40%\n",
      "t-shirt:5\n",
      "mug:4\n",
      "hat:2\n",
      "book:2\n"
     ]
    }
   ],
   "source": [
    "products = [\"t-shirt\", \"mug\", \"hat\", \"book\", \"keychain\"]\n",
    "\n",
    "inventory = initialize_inventory(products)\n",
    "\n",
    "customer_orders = get_customer_orders()\n",
    "\n",
    "total_price = calculate_order_price(customer_orders)\n",
    "\n",
    "inventory = update_inventory(customer_orders, inventory)\n",
    "\n",
    "order_statistics = calculate_order_statistics(customer_orders, products)\n",
    "\n",
    "print_order_statistics(order_statistics)\n",
    "\n",
    "print_updated_inventory(inventory)"
   ]
  },
  {
   "cell_type": "code",
   "execution_count": 11,
   "id": "89c4333e",
   "metadata": {},
   "outputs": [],
   "source": [
    "#4\n",
    "\"\"\"\n",
    "\n",
    "Modify the update_inventory function to remove the product from the inventory\n",
    "if its quantity becomes zero after fulfilling the customer orders.\n",
    "Use comprehension to filter out the products with a quantity of zero from the inventory.\n",
    "\"\"\"\n",
    "def update_inventory(customer_orders, inventory):\n",
    "    for product in customer_orders:\n",
    "        if product in inventory:\n",
    "            if inventory[product] > 0:\n",
    "                inventory[product] -= 1\n",
    "    \n",
    "    inventory = {product: quantity for product, quantity in inventory.items() if quantity > 0} \n",
    "\n",
    "    return inventory\n",
    "\n",
    "inventory=update_inventory(customer_orders, inventory)"
   ]
  },
  {
   "cell_type": "code",
   "execution_count": 21,
   "id": "5b7d2dd8",
   "metadata": {},
   "outputs": [
    {
     "name": "stdout",
     "output_type": "stream",
     "text": [
      "(2, 40)\n"
     ]
    }
   ],
   "source": [
    "\n",
    "\"\"\"\n",
    "Define a function named calculate_order_statistics that takes customer_orders and products as parameters.\n",
    "Inside the function, implement the code for calculating the order statistics (total products ordered, and percentage of unique products ordered).\n",
    "The function should return these values.\"\"\"\n",
    "\n",
    "def calculate_order_statistics(customer_orders, products):\n",
    "    order_statistics = (int(len(customer_orders)), int(len(customer_orders)/len(products)*100))\n",
    "    return order_statistics\n",
    "\n",
    "order_statistics = calculate_order_statistics(customer_orders, products)\n",
    "print(order_statistics)"
   ]
  },
  {
   "cell_type": "code",
   "execution_count": null,
   "id": "a4667375",
   "metadata": {},
   "outputs": [],
   "source": [
    "#5\n",
    "\"\"\"\n",
    "Define a function named print_order_statistics that takes order_statistics as a parameter.\n",
    "Inside the function, implement the code for printing the order statistics.\"\"\"\n",
    "\n",
    "def print_order_statistics(order_statistics):\n",
    "    print(f\"Order Statistics:\\nTotal Products Ordered:{order_statistics[0]}\\nPercentage of Products Ordered:{order_statistics[1]}%\")\n",
    "    \n",
    "print_order_statistics(order_statistics)"
   ]
  },
  {
   "cell_type": "code",
   "execution_count": null,
   "id": "fa743a27",
   "metadata": {},
   "outputs": [],
   "source": [
    "#6\n",
    "\"\"\"\n",
    "Define a function named print_updated_inventory that takes inventory as a parameter.\n",
    "Inside the function, implement the code for printing the updated inventory.\n",
    "\"\"\"\n",
    "def print_updated_inventory(inventory):\n",
    "    for product,quantity in inventory.items():\n",
    "        print(f\"{product}:{quantity}\")\n",
    "        \n",
    "print_updated_inventory(inventory)"
   ]
  },
  {
   "cell_type": "code",
   "execution_count": null,
   "id": "5a229e20",
   "metadata": {},
   "outputs": [],
   "source": []
  },
  {
   "cell_type": "code",
   "execution_count": null,
   "id": "d8d5e2ca",
   "metadata": {},
   "outputs": [],
   "source": []
  }
 ],
 "metadata": {
  "kernelspec": {
   "display_name": "Python 3 (ipykernel)",
   "language": "python",
   "name": "python3"
  },
  "language_info": {
   "codemirror_mode": {
    "name": "ipython",
    "version": 3
   },
   "file_extension": ".py",
   "mimetype": "text/x-python",
   "name": "python",
   "nbconvert_exporter": "python",
   "pygments_lexer": "ipython3",
   "version": "3.11.5"
  }
 },
 "nbformat": 4,
 "nbformat_minor": 5
}
