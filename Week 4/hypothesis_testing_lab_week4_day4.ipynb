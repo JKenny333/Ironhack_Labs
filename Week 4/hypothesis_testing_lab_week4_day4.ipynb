{
 "cells": [
  {
   "cell_type": "markdown",
   "id": "bf9430ef",
   "metadata": {},
   "source": [
    "### Instructions\n",
    "\n",
    "1. It is assumed that the mean systolic blood pressure is μ = 120 mm Hg. In the Honolulu Heart Study, a sample of n = 100 people had an average systolic blood pressure of 130.1 mm Hg with a standard deviation of 21.21 mm Hg. Is the group significantly different (with respect to systolic blood pressure!) from the regular population?\n",
    "\n",
    "* Set up the hypothesis test.\n",
    "* Write down all the steps followed for setting up the test.\n",
    "* Calculate the test statistic by hand and also code it in Python. It should be 4.76190. What decision can you make based on this calculated value?\n",
    "\n",
    "Hint: here is the statistic table\n",
    "\n",
    "#### Optional\n",
    "2. In a packing plant, a machine packs cartons with jars. It is supposed that a new machine will pack faster on the average than the machine currently used. To test that hypothesis, the times it takes each machine to pack ten cartons are recorded. The results, in seconds, are shown in the tables in the file Data/machine.txt. Assume that there is sufficient evidence to conduct the t test, does the data provide sufficient evidence to show if one machine is better than the other.\n",
    "\n",
    "\n",
    "Hint: use two sample t-test\n",
    "\n",
    "t= (sample_mean(x1) - sample_mean(x2)) / sqrt(square(s1)/n1 + square(s2)/n2 )"
   ]
  },
  {
   "cell_type": "markdown",
   "id": "025da413",
   "metadata": {},
   "source": [
    "### Problem statement\n",
    "It is assumed that the mean systolic blood pressure is μ = 120 mm Hg. However, In the Honolulu Heart Study, a sample of n = 100 people had an average systolic blood pressure of 130.1 mm Hg\n",
    "\n",
    "Is the mean of our sample different than 120 mm Hg due to chance, or because the people who took part in the study actually have a mean systolic blood pressure different from 120 mm Hg?\n",
    "\n",
    "### Process\n",
    "1. Set up H0 and H1\n",
    "2. Set critical value CV\n",
    "3. Compute t score\n",
    "4. Compare t score vs CV\n",
    "\n",
    "\n",
    "Significance Level (α): 0.05 (5%)\n",
    "Chosen test type: one-tailed\n",
    "\n",
    "Calculate the Test Statistic:\n",
    "paired t-test\n",
    "Determine the Degrees of Freedom (df)\n",
    "\n",
    "This is usually the sample size minus one for a one-sample t-test, and more complex calculations for other types of t-tests.\n",
    "Find the p-Value:\n",
    "Using the calculated t-statistic and degrees of freedom, find the p-value from the t-distribution. This can be done using statistical tables, software, or calculators.\n",
    "Make a Decision:\n",
    "If the p-value is less than or equal to the significance level (α), reject the null hypothesis in favor of the alternative hypothesis.\n",
    "If the p-value is greater than α, do not reject the null hypothesis.\n",
    "Report the Results:\n",
    "Present the t-statistic, degrees of freedom, p-value, and your conclusion about the hypothesis.\n",
    "Interpret the Findings:\n",
    "Discuss what the results mean in the context of the research question.\n",
    "Remember, the t-distribution is used instead of the normal distribution when the sample size is small (usually less than 30) and the population standard deviation is unknown. The t-distribution is similar to the normal distribution but has fatter tails, allowing for the increased variability that tends to occur in smaller samples.\n",
    "\n",
    "### Hypothesis\n",
    "H0: μ <= 120 mm Hg\n",
    "\n",
    "H1: μ > 120 mm Hg\n"
   ]
  },
  {
   "cell_type": "markdown",
   "id": "10655953",
   "metadata": {},
   "source": [
    "#### Which distribution should we use?\n",
    "Our sample size is bigger than 30 but we do not know the poulation standard deviation therefore our sample distribution will follow a a t-student distribution.\n",
    "\n"
   ]
  },
  {
   "cell_type": "code",
   "execution_count": 3,
   "id": "b7e3db7e",
   "metadata": {},
   "outputs": [],
   "source": [
    "import numpy as np\n",
    "import pandas as pd\n",
    "import scipy.stats as stats\n",
    "import matplotlib.pyplot as plt\n",
    "import seaborn as sns\n",
    "\n",
    "%matplotlib inline"
   ]
  },
  {
   "cell_type": "markdown",
   "id": "f3947824",
   "metadata": {},
   "source": [
    "#### Summary\n",
    "* population mean μ = 120 mm Hg\n",
    "* sample mean = 130.1 mm Hg\n",
    "* sample standard deviation = 21.21 mm Hg\n",
    "* sample size n = 100"
   ]
  },
  {
   "cell_type": "code",
   "execution_count": 26,
   "id": "9363c10a",
   "metadata": {},
   "outputs": [],
   "source": [
    "pop_mean = 120\n",
    "samp_mean = 130.1\n",
    "samp_std = 21.21\n",
    "samp_size = 100\n",
    "signif_level = 0.05\n",
    "dof = samp_size - 1"
   ]
  },
  {
   "cell_type": "code",
   "execution_count": 27,
   "id": "7ed85d64",
   "metadata": {},
   "outputs": [
    {
     "data": {
      "text/plain": [
       "2.121"
      ]
     },
     "execution_count": 27,
     "metadata": {},
     "output_type": "execute_result"
    }
   ],
   "source": [
    "# Let's compute the standard error:\n",
    "sem = samp_std/np.sqrt(samp_size)\n",
    "sem"
   ]
  },
  {
   "cell_type": "markdown",
   "id": "964cdafc",
   "metadata": {},
   "source": [
    "#### T value\n"
   ]
  },
  {
   "cell_type": "code",
   "execution_count": 28,
   "id": "f3e2438a",
   "metadata": {},
   "outputs": [
    {
     "data": {
      "text/plain": [
       "4.761904761904759"
      ]
     },
     "execution_count": 28,
     "metadata": {},
     "output_type": "execute_result"
    }
   ],
   "source": [
    "# Calculation of t-valu\n",
    "\n",
    "t_stat = (samp_mean - pop_mean) / (samp_std / np.sqrt(samp_size))\n",
    "t_stat"
   ]
  },
  {
   "cell_type": "markdown",
   "id": "33087748",
   "metadata": {},
   "source": [
    "#### P value"
   ]
  },
  {
   "cell_type": "code",
   "execution_count": 29,
   "id": "e39ba260",
   "metadata": {},
   "outputs": [
    {
     "data": {
      "text/plain": [
       "3.2813509086043083e-06"
      ]
     },
     "execution_count": 29,
     "metadata": {},
     "output_type": "execute_result"
    }
   ],
   "source": [
    "p_value = stats.t.sf(t_stat, dof)\n",
    "p_value"
   ]
  },
  {
   "cell_type": "markdown",
   "id": "7292ca55",
   "metadata": {},
   "source": [
    "#### Conclusion\n",
    "The p value was found to be 3.28 which is higher than our significance Level (α): 0.05\n",
    "Therfore we cannot reject the null hypothesis that H0: μ <= 120 mm Hg\n",
    "\n"
   ]
  },
  {
   "cell_type": "code",
   "execution_count": null,
   "id": "1454bca6",
   "metadata": {},
   "outputs": [],
   "source": []
  }
 ],
 "metadata": {
  "kernelspec": {
   "display_name": "Python 3 (ipykernel)",
   "language": "python",
   "name": "python3"
  },
  "language_info": {
   "codemirror_mode": {
    "name": "ipython",
    "version": 3
   },
   "file_extension": ".py",
   "mimetype": "text/x-python",
   "name": "python",
   "nbconvert_exporter": "python",
   "pygments_lexer": "ipython3",
   "version": "3.11.5"
  }
 },
 "nbformat": 4,
 "nbformat_minor": 5
}
