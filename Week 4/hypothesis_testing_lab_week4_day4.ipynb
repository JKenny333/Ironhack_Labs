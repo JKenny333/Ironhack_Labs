{
 "cells": [
  {
   "cell_type": "markdown",
   "id": "653b73f1",
   "metadata": {},
   "source": [
    "### Instructions\n",
    "\n",
    "1. It is assumed that the mean systolic blood pressure is μ = 120 mm Hg. In the Honolulu Heart Study, a sample of n = 100 people had an average systolic blood pressure of 130.1 mm Hg with a standard deviation of 21.21 mm Hg. Is the group significantly different (with respect to systolic blood pressure!) from the regular population?\n",
    "\n",
    "* Set up the hypothesis test.\n",
    "* Write down all the steps followed for setting up the test.\n",
    "* Calculate the test statistic by hand and also code it in Python. It should be 4.76190. What decision can you make based on this calculated value?\n",
    "\n",
    "Hint: here is the statistic table\n",
    "\n",
    "#### Optional\n",
    "2. In a packing plant, a machine packs cartons with jars. It is supposed that a new machine will pack faster on the average than the machine currently used. To test that hypothesis, the times it takes each machine to pack ten cartons are recorded. The results, in seconds, are shown in the tables in the file Data/machine.txt. Assume that there is sufficient evidence to conduct the t test, does the data provide sufficient evidence to show if one machine is better than the other.\n",
    "\n",
    "\n",
    "Hint: use two sample t-test\n",
    "\n",
    "t= (sample_mean(x1) - sample_mean(x2)) / sqrt(square(s1)/n1 + square(s2)/n2 )"
   ]
  },
  {
   "cell_type": "markdown",
   "id": "56f049a9",
   "metadata": {},
   "source": [
    "### Problem statement\n",
    "It is assumed that the mean systolic blood pressure is μ = 120 mm Hg. However, In the Honolulu Heart Study, a sample of n = 100 people had an average systolic blood pressure of 130.1 mm Hg\n",
    "\n",
    "Is the mean of our sample different than 120 mm Hg due to chance, or because the people who took part in the study actually have a mean systolic blood pressure different from 120 mm Hg?\n",
    "\n",
    "### Process\n",
    "Significance Level (α): 0.05 (5%)\n",
    "\n",
    "### Hypothesis\n",
    "H0: μ = 120 mm Hg\n",
    "\n",
    "H1: μ != 120 mm Hg\n"
   ]
  },
  {
   "cell_type": "markdown",
   "id": "7bff88c2",
   "metadata": {},
   "source": [
    "#### Which distribution should we use?\n",
    "Our sample size is bigger than 30 but we do not know the poulation standard deviation therefore our sample distribution will follow a a t-student distribution.\n",
    "\n"
   ]
  },
  {
   "cell_type": "code",
   "execution_count": 11,
   "id": "85c15463",
   "metadata": {},
   "outputs": [],
   "source": [
    "import numpy as np\n",
    "import pandas as pd\n",
    "import scipy.stats as stats\n",
    "import matplotlib.pyplot as plt\n",
    "import seaborn as sns\n",
    "\n",
    "\n",
    "%matplotlib inline"
   ]
  },
  {
   "cell_type": "markdown",
   "id": "c20c3904",
   "metadata": {},
   "source": [
    "#### Summary\n",
    "* population mean μ = 120 mm Hg\n",
    "* sample mean = 130.1 mm Hg\n",
    "* sample standard deviation = 21.21 mm Hg\n",
    "* sample size n = 100"
   ]
  },
  {
   "cell_type": "code",
   "execution_count": 18,
   "id": "d74449c5",
   "metadata": {},
   "outputs": [
    {
     "data": {
      "text/plain": [
       "99"
      ]
     },
     "execution_count": 18,
     "metadata": {},
     "output_type": "execute_result"
    }
   ],
   "source": [
    "pop_mean = 120\n",
    "samp_mean = 130.1\n",
    "samp_std = 21.21\n",
    "samp_size = 100\n",
    "signif_level = 0.05\n",
    "dof = samp_size - 1\n"
   ]
  },
  {
   "cell_type": "code",
   "execution_count": 13,
   "id": "2d362ac1",
   "metadata": {},
   "outputs": [
    {
     "data": {
      "text/plain": [
       "2.121"
      ]
     },
     "execution_count": 13,
     "metadata": {},
     "output_type": "execute_result"
    }
   ],
   "source": [
    "# Let's compute the standard error:\n",
    "sem = samp_std/np.sqrt(samp_size)\n",
    "sem"
   ]
  },
  {
   "cell_type": "markdown",
   "id": "b151f942",
   "metadata": {},
   "source": [
    "#### Z critical"
   ]
  },
  {
   "cell_type": "code",
   "execution_count": 19,
   "id": "54554921",
   "metadata": {},
   "outputs": [
    {
     "data": {
      "text/plain": [
       "1.9842169515086827"
      ]
     },
     "execution_count": 19,
     "metadata": {},
     "output_type": "execute_result"
    }
   ],
   "source": [
    "zc = stats.t.ppf(1-0.025, dof)\n",
    "\n",
    "zc"
   ]
  },
  {
   "cell_type": "markdown",
   "id": "366233e4",
   "metadata": {},
   "source": [
    "#### T stat\n"
   ]
  },
  {
   "cell_type": "code",
   "execution_count": 20,
   "id": "3d555fd6",
   "metadata": {},
   "outputs": [
    {
     "data": {
      "text/plain": [
       "4.761904761904759"
      ]
     },
     "execution_count": 20,
     "metadata": {},
     "output_type": "execute_result"
    }
   ],
   "source": [
    "# Calculation of t-valu\n",
    "\n",
    "t_stat = (samp_mean - pop_mean) / sem\n",
    "t_stat"
   ]
  },
  {
   "cell_type": "markdown",
   "id": "26a01e81",
   "metadata": {},
   "source": [
    "#### Conclusion\n",
    "The t stat value was found to be 4.76 which is higher than our z critical value\n",
    "Therefore we cannot reject the null hypothesis that H0: μ = 120 mm Hg\n",
    "\n",
    "t_stat = 4.76 mean we are 4.76 standard deviations away from the mean"
   ]
  },
  {
   "cell_type": "code",
   "execution_count": 25,
   "id": "1365fa56",
   "metadata": {},
   "outputs": [
    {
     "data": {
      "text/plain": [
       "3.2813509086043083e-06"
      ]
     },
     "execution_count": 25,
     "metadata": {},
     "output_type": "execute_result"
    }
   ],
   "source": [
    "p_value = stats.t.sf(t_stat, dof)\n",
    "p_value\n",
    "\n",
    "\n",
    "#compare value"
   ]
  },
  {
   "cell_type": "code",
   "execution_count": null,
   "id": "9fd10ae9",
   "metadata": {},
   "outputs": [],
   "source": []
  }
 ],
 "metadata": {
  "kernelspec": {
   "display_name": "Python 3 (ipykernel)",
   "language": "python",
   "name": "python3"
  },
  "language_info": {
   "codemirror_mode": {
    "name": "ipython",
    "version": 3
   },
   "file_extension": ".py",
   "mimetype": "text/x-python",
   "name": "python",
   "nbconvert_exporter": "python",
   "pygments_lexer": "ipython3",
   "version": "3.11.5"
  }
 },
 "nbformat": 4,
 "nbformat_minor": 5
}
